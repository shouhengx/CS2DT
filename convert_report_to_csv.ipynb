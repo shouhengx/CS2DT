{
 "cells": [
  {
   "cell_type": "code",
   "execution_count": 19,
   "id": "8d6c430c",
   "metadata": {},
   "outputs": [],
   "source": [
    "import pandas as pd\n",
    "import re\n",
    "from glob import glob\n",
    "import argparse\n",
    "import os"
   ]
  },
  {
   "cell_type": "code",
   "execution_count": 20,
   "id": "ed00177e",
   "metadata": {},
   "outputs": [],
   "source": [
    "def get_data(report):\n",
    "    class_wise_acc_regex = r'\\[[\\d.\\se\\-\\+(\\\\n)]*\\]'\n",
    "    oa_aa_kappa_regex = r'([-+]?[0-9]*\\.?[0-9]+([eE][-+]?[0-9]+)?\\s±\\s[-+]?[0-9]*\\.?[0-9]+([eE][-+]?[0-9]+)?)'\n",
    "\n",
    "    result = {}\n",
    "\n",
    "    x = re.findall(oa_aa_kappa_regex, report)\n",
    "    result['oa'] = x[0][0]\n",
    "    result['aa'] = x[1][0]\n",
    "    result['kappa'] = x[2][0]\n",
    "\n",
    "    result['oa'] = \"{:.2f}\".format(\n",
    "        float(result['oa'].split(' ± ')[0]) * 100) + ' ± ' + \"{:.3f}\".format(\n",
    "            float(result['oa'].split(' ± ')[1]))\n",
    "    result['aa'] = \"{:.2f}\".format(\n",
    "        float(result['aa'].split(' ± ')[0]) * 100) + ' ± ' + \"{:.3f}\".format(\n",
    "            float(result['aa'].split(' ± ')[1]))\n",
    "    result['kappa'] = \"{:.4f}\".format(float(\n",
    "        result['kappa'].split(' ± ')[0])) + ' ± ' + \"{:.3f}\".format(\n",
    "            float(result['kappa'].split(' ± ')[1]))\n",
    "\n",
    "    x = re.findall(class_wise_acc_regex, report)\n",
    "    result['class_mean'] = x[0][1:-1].split()\n",
    "    result['class_std'] = x[1][1:-1].split()\n",
    "    result['class_wise'] = [\n",
    "        \"{:.2f}\".format(float(m) * 100) + ' ± ' + \"{:.3f}\".format(float(n))\n",
    "        for m, n in zip(result['class_mean'], result['class_std'])\n",
    "    ]\n",
    "\n",
    "    return result\n"
   ]
  },
  {
   "cell_type": "code",
   "execution_count": 21,
   "id": "f95fbd99",
   "metadata": {},
   "outputs": [],
   "source": [
    "search_path='./report_ok'"
   ]
  },
  {
   "cell_type": "code",
   "execution_count": 22,
   "id": "49f02ca4",
   "metadata": {},
   "outputs": [],
   "source": [
    "dataset='UP'  # UP,IN,SV, KSC"
   ]
  },
  {
   "cell_type": "code",
   "execution_count": 23,
   "id": "d0693097",
   "metadata": {},
   "outputs": [],
   "source": [
    "output_file=None"
   ]
  },
  {
   "cell_type": "code",
   "execution_count": 24,
   "id": "b49f509f",
   "metadata": {},
   "outputs": [],
   "source": [
    "all_reports = glob(search_path + '/*' + dataset + '*.txt')"
   ]
  },
  {
   "cell_type": "code",
   "execution_count": null,
   "id": "c18ab267",
   "metadata": {},
   "outputs": [],
   "source": [
    "all_reports"
   ]
  },
  {
   "cell_type": "code",
   "execution_count": 26,
   "id": "da686816",
   "metadata": {},
   "outputs": [],
   "source": [
    "no_of_labels = 0\n",
    "dataframe_dict = {}"
   ]
  },
  {
   "cell_type": "code",
   "execution_count": null,
   "id": "37954ec0",
   "metadata": {},
   "outputs": [],
   "source": [
    "for report in all_reports:\n",
    "        print('Processing...', report)\n",
    "        column_name = os.path.basename(report)[:-4]\n",
    "        with open(report) as f:\n",
    "            report_content = f.read()\n",
    "\n",
    "        result = get_data(report_content)\n",
    "\n",
    "        dataframe_dict[column_name] = result['class_wise'] + [result['oa']] + [\n",
    "            result['aa']\n",
    "        ] + [result['kappa']]\n",
    "        no_of_labels = len(result['class_wise'])\n",
    "\n",
    "label_list = [str(i)\n",
    "              for i in range(1, no_of_labels + 1)] + ['oa', 'aa', 'kappa']\n",
    "df = pd.DataFrame(dataframe_dict)\n",
    "df = df.reindex(sorted(df.columns), axis=1)\n",
    "df.insert(0, 'label', label_list)\n",
    "\n",
    "print('Saving...', dataset, 'report.')\n",
    "if output_file is not None:\n",
    "    df.to_csv(output_file, index=False)\n",
    "else:\n",
    "    if not os.path.exists('csv_reports'):\n",
    "        os.makedirs('csv_reports')\n",
    "    df.to_csv(\n",
    "        os.path.join('csv_reports', dataset + '_DC-DenseFormer_report.csv'), index=False)\n"
   ]
  },
  {
   "cell_type": "code",
   "execution_count": null,
   "id": "2d65c010",
   "metadata": {},
   "outputs": [],
   "source": []
  }
 ],
 "metadata": {
  "kernelspec": {
   "display_name": "pyHSI",
   "language": "python",
   "name": "python3"
  },
  "language_info": {
   "codemirror_mode": {
    "name": "ipython",
    "version": 3
   },
   "file_extension": ".py",
   "mimetype": "text/x-python",
   "name": "python",
   "nbconvert_exporter": "python",
   "pygments_lexer": "ipython3",
   "version": "3.8.13"
  },
  "vscode": {
   "interpreter": {
    "hash": "4f0e2fe85115fd2386557c42e0d23c6fb95dd61fe2d1e647d69acf95e1a29035"
   }
  }
 },
 "nbformat": 4,
 "nbformat_minor": 5
}
